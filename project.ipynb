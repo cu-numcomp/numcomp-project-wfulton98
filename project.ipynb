{
 "cells": [
  {
   "cell_type": "markdown",
   "metadata": {},
   "source": [
    "# Project: **Newton, Bisect, and Secant Method** in **Options-Modelling**"
   ]
  },
  {
   "cell_type": "markdown",
   "metadata": {},
   "source": [
    "## About the Software\n",
    "\n",
    "The software I found was a stock option modelling software that took advantage of the Black-Scholes model for pricing option contracts. For those who do not know, an option contract is known as a derivative of the underlying stock price, and they can be used to hedge against positions or to increase returns on positions. For the Black-Shcoles model (which is just one of several option pricing models), the price of the contract can be calculated from the following function:\n",
    "\n",
    "$$C = S_{t}N(d_{1}) - Ke^{-rt}N(d_{2})$$ \n",
    "\n",
    "Where,\n",
    "\n",
    "$$d_1 = \\frac{ln(\\frac{S_{t}}{K}) + (r + \\frac{\\sigma^{2}_{v}}{2})t }{\\sigma_{s} \\sqrt{t}}$$\n",
    "\n",
    "and\n",
    "\n",
    "$$d_2 = d_1 - \\sigma_{s}t$$\n",
    "\n",
    "where,\n",
    "\n",
    "$$C = \\text{Call Option Price}$$\n",
    "$$S = \\text{Current Stock Price}$$\n",
    "$$K = \\text{Strike Price}$$\n",
    "$$r = \\text{risk free interest rate}$$\n",
    "$$t = \\text{time to maturity}$$\n",
    "$$N = \\text{A normal distribution}$$\n",
    "$$v = \\text{volatility}$$\n",
    "\n",
    "Below is how the author implements the Black-Scholes model:"
   ]
  },
  {
   "cell_type": "code",
   "execution_count": 160,
   "metadata": {},
   "outputs": [],
   "source": [
    "def norminv(x):\n",
    "    return ((1.0/math.sqrt(2.0*math.pi)) * math.exp(-x*x*0.5))\n",
    "\n",
    "#calculate d1\n",
    "def d1(S0, K, r, T, sigma, q):\n",
    "    deno = (sigma * math.sqrt(T))\n",
    "    if (deno==0):\n",
    "        return 0\n",
    "    logReturns = math.log(S0/float(K)) if ((S0/float(K)) > 0.0) else 0.0\n",
    "    return (float(logReturns) + (float(r) - float(q) + float(sigma)*float(sigma)*0.5)*float(T)) / float(deno)\n",
    "    \n",
    "#calculate d2\n",
    "def d2(S0, K, r, T, sigma, q):\n",
    "        return d1(S0, K, r, T, sigma, q)-sigma*math.sqrt(T)\n",
    "\n",
    "#Black-Scholes\n",
    "def bsformula(callput, S0, K, r, T, sigma, q=0):\n",
    "    N = stats.norm.cdf\n",
    "                \n",
    "    def optionValueOfCall(S0, K, r, T, sigma, q):       \n",
    "        _d1 = d1(S0, K, r, T, sigma, q)\n",
    "        _d2 = d2(S0, K, r, T, sigma, q)\n",
    "        return S0*math.exp(-q*T)*N(_d1)- K*math.exp(-r*T)*N(_d2)\n",
    "      \n",
    "    def optionValueOfPut(S0, K, r, T, sigma, q):\n",
    "        _d1 = d1(S0, K, r, T, sigma, q)\n",
    "        _d2 = d2(S0, K, r, T, sigma, q)\n",
    "        return float(K)*math.exp(-float(r)*float(T))*N(-_d2) - float(S0)*math.exp(-float(q)*float(T))*N(-_d1)\n",
    "        \n",
    "    def delta(callput, S0, K, r, T, sigma, q):\n",
    "        _d1 = d1(S0, K, r, T, sigma, q)        \n",
    "        if callput.lower() == \"call\":            \n",
    "            return N(_d1) * math.exp(-q*T)\n",
    "        else:\n",
    "            return (N(_d1)-1)* math.exp(-q*T)\n",
    "    \n",
    "    def vega(S0, K, r, T, sigma, q):\n",
    "        _d1 = d1(S0, K, r, T, sigma, q)\n",
    "        return S0  * math.sqrt(T) * norminv(_d1)  * math.exp(-q*T)\n",
    "    \n",
    "    if callput.lower()==\"call\":\n",
    "        optionValue = optionValueOfCall(S0, K, r, T, sigma, q)\n",
    "    else:\n",
    "        optionValue = optionValueOfPut(S0, K, r, T, sigma, q)\n",
    "        \n",
    "    _delta = delta(callput, S0, K, r, T, sigma, q)\n",
    "    _vega = vega(S0, K, r, T, sigma, q)\n",
    "    \n",
    "    return (optionValue, _delta, _vega)"
   ]
  },
  {
   "cell_type": "markdown",
   "metadata": {},
   "source": [
    "However, one of the most important factors in an options price is called Implied Volatility (IV). Many traders are more interested in knowing the IV of a certain option contract rather than the price itself because they know the latter is determined by the former, and determining what volatility level the option was priced at can uncover unique trading strategies. However, IV is the only input to the model that is not directly observable, so the model must be sovled for implied volatility.\n",
    "\n",
    "Now, if implied volatility is used to determine the price of an option, then if we know the price of the contract we can use that to find the implied volatility level. This creates the parameters and opportunity to use a root finding algorithm (Bisection, Newton-Raphson, Secant) to find the right implied volatility level where:\n",
    "   \n",
    "$$f(IV) = C$$\n",
    "\n",
    "Where,\n",
    "\n",
    "$$f = \\text{Black-Scholes Model}$$\n",
    "$$IV = \\text{Implied Volatility}$$\n",
    "$$C = \\text{Current price of the option}$$\n",
    "\n",
    "The software repository I found uses the root finding algorithms mentioned above to find the current level of implied volatility to accurately price an option. \n",
    "\n",
    "\n",
    "The software is written in python and can be found here:\n",
    "\n",
    "https://github.com/jamesmawm/Options-Modelling\n",
    "\n",
    "This is not  a popular or extremley active repository by any means, but I found it intersting seeing these rootfinding methods being applied in options modeling.\n",
    "\n",
    "Another instance of roofinding being used in finding IV can be found here:\n",
    "\n",
    "https://github.com/mcdallas/wallstreet/blob/master/wallstreet/blackandscholes.py\n",
    "\n",
    "However, in this repository they use the scipy method:"
   ]
  },
  {
   "cell_type": "code",
   "execution_count": 3,
   "metadata": {},
   "outputs": [],
   "source": [
    "  def implied_volatility(self):\n",
    "        impvol = lambda x: self.BS(self.S, self.K, self.T, x, self.r, self.q) - self.opt_price\n",
    "        iv = fsolve(impvol, SOLVER_STARTING_VALUE, fprime=self._fprime, xtol=IMPLIED_VOLATILITY_TOLERANCE)\n",
    "        return iv[0]"
   ]
  },
  {
   "cell_type": "markdown",
   "metadata": {},
   "source": [
    "instead of coding it all out."
   ]
  },
  {
   "cell_type": "markdown",
   "metadata": {},
   "source": [
    "## About the method\n",
    "\n",
    "The methods used are all algorithms we learned about near the beginning of the semester. In simple terms these methods are attemping to find \n",
    "\n",
    "$$x$$\n",
    "\n",
    "of a function $f$ where,\n",
    "\n",
    "$$f(x) = 0$$\n",
    "\n",
    "In our current situation of finding IV we want to solve\n",
    "\n",
    "$$f(x) = |C(\\sigma_{i}) - C(\\sigma_{i+1})| = 0$$\n",
    "\n",
    "where,\n",
    "\n",
    "$$C = \\text{price of option at given IV}$$\n",
    "$$\\sigma_{i} = \\text{current IV guess}$$\n",
    "$$\\sigma_{i+1} = \\text{IV guess after next iteration}$$\n",
    "\n",
    "This method is used in the current context because if traders can find accurate estimates for the implied volatity, then it can lead to more profitable and consistent trading. We must use rootfinding algorithms because, as stated above, the implied volatility is not directly observalbe from the model itself. These rootfinding algorithms allows for efficient and fast startegies to finding an accurate estimate for IV. The only other option would be to iteratively increase the IV guess from $0\\%$ until you reach the desired IV level. However, this is extremely inefficient compared to the rootfinding strategies."
   ]
  },
  {
   "cell_type": "markdown",
   "metadata": {},
   "source": [
    "### Questions\n",
    "\n",
    "Can you still use Newton's method to find $x$ such that $f(x) = y$ for a specific $y$? Or can you only use it to find $f(x) = 0$?"
   ]
  },
  {
   "cell_type": "markdown",
   "metadata": {},
   "source": [
    "## Method as it appears in the software\n",
    "\n",
    "The role of the method in this software, as stated above, is to find the implied volatility of a given option contract.\n",
    "\n"
   ]
  },
  {
   "cell_type": "code",
   "execution_count": 157,
   "metadata": {},
   "outputs": [],
   "source": [
    "def newtonsMethod(callput, S0, K, r, T, q, price, initialVol, tolerance=0.01, maxIterations=100):\n",
    "    iterations=0\n",
    "    x = initialVol\n",
    "    prevega=0\n",
    "    while iterations < maxIterations:\n",
    "        bsdata = bsformula(callput, S0, K, r, T, x, q)\n",
    "        optionValue = bsdata[0]\n",
    "        vega = bsdata[2]\n",
    "        \n",
    "        #Take the current implied volatility to prevent division by zero error.\n",
    "        if (vega==0):   \n",
    "            return (x, iterations+1)\n",
    "        prevega = vega\n",
    "        newt = float(x) - (float(optionValue)-float(price))/float(vega)\n",
    "        if (abs(newt-x)<tolerance):            \n",
    "            return (newt, iterations+1)\n",
    "        \n",
    "        x = newt        \n",
    "        iterations += 1\n",
    "        \n",
    "    return (float('NaN'), 0)\n",
    "\n",
    "def secantMethod(targetfunction, x0,x1,n=100):\n",
    "    numberOfCalls = 0\n",
    "    for i in range(n):        \n",
    "        numberOfCalls+=1\n",
    "        ans1 = targetfunction(x1)\n",
    "        ans2 = targetfunction(x0)            \n",
    "        deno = ans1-ans2\n",
    "        \n",
    "        if deno == 0.0:           \n",
    "            return (x1, numberOfCalls)\n",
    "        x_temp = x1- (ans1*(x1-x0))/deno\n",
    "        x0 = x1\n",
    "        x1 = x_temp        \n",
    "        \n",
    "    return (x1, numberOfCalls)"
   ]
  },
  {
   "cell_type": "markdown",
   "metadata": {},
   "source": [
    "Above is how the author implements Newton's method and secant method. As we can see this is pretty much classical Newton. However, the only thing that might be confusing is vega. Vega is a value associated with an option contract that tells how much the price of an option contract will change with a $1\\%$ change in implied volatility. So, essentially it is the the derivative of implied volotility with respect to option price. Because of this we can use vega as the derivative of IV for Newton's method. We can see that every iteration they call the Black-Scholes method to find the option value corresponding to the estimated implied volatility and then updates the implied volotility if the calculated option price is not within a given tolerance.\n",
    "\n",
    "Also, the implemented secant method is just the classical algorithm with the target function being the Black-Scholes model and $x0$ and $x1$ are estimated IV values. "
   ]
  },
  {
   "cell_type": "markdown",
   "metadata": {},
   "source": [
    "Below is how one can use these functions. Here we are first creating the theoretical option price with an underlying stock price of $\\$100$, a strike price of $\\$110$, risk free rate of 5%, 30 days untill expiration, and a given implied volatility of 3%.\n",
    "\n",
    "We then take the outputted option price from the Black-Scholes algorithm and then input that price along with the other given parameters to see if the $bsimpvol$ function can accurately find the given implied volatility using all three rootfinding algorithms."
   ]
  },
  {
   "cell_type": "code",
   "execution_count": 156,
   "metadata": {},
   "outputs": [
    {
     "name": "stdout",
     "output_type": "stream",
     "text": [
      "Option price: $82.71950447564355 \n",
      "\n",
      "Method: newton\n",
      "Implied Volatility: 30.000045099661378%\n",
      "Iterations: 3\n",
      "\n",
      "\n",
      "Method: bisect\n",
      "Implied Volatility: 29.999999999999993%\n",
      "Iterations: 19\n",
      "\n",
      "\n",
      "Method: secant\n",
      "Implied Volatility: 30.000000000000014%\n",
      "Iterations: 5\n",
      "\n",
      "\n"
     ]
    }
   ],
   "source": [
    "from BS import *\n",
    "\n",
    "callput = \"call\"\n",
    "S0 = 100\n",
    "K = 110\n",
    "r = 0.05\n",
    "T = 30\n",
    "sigma = 0.3 #given implied volatility\n",
    "\n",
    "price = bsformula(callput, S0, K, r, T, sigma)\n",
    "\n",
    "print(\"Option price: ${}\".format(price[0]), '\\n')\n",
    "\n",
    "#find implied volatility with initial guess 0.5\n",
    "algos = ['newton', 'bisect', 'secant']\n",
    "for algo in algos:\n",
    "    imp_vol, calls = bsimpvol(callput, S0, K, r, T, price[0], sigma=0.5, q=0, priceTolerance=0.01, method=algo, reportCalls=True)\n",
    "    print(\"Method: {}\".format(algo))\n",
    "    print(\"Implied Volatility: {}%\".format(imp_vol*100))\n",
    "    print(\"Iterations: {}\".format(calls))\n",
    "    print('\\n')"
   ]
  },
  {
   "cell_type": "markdown",
   "metadata": {},
   "source": [
    "As we can see Newton's method converged the fastest in only 3 iterations, however the secant method had the most accurate final estimate of the implied volatility. Bisect was less accurate and took longer in comparison to both Newton's and secant methods. \n",
    "\n",
    "You can also change any of the starting parameters and initial guess to see how the option price changes and how the efficiency and accuracy of the methods change (the sigma parameter in the bsimpvol function call only effects the starting guess for Newton's method)."
   ]
  }
 ],
 "metadata": {
  "kernelspec": {
   "display_name": "Python 3",
   "language": "python",
   "name": "python3"
  },
  "language_info": {
   "codemirror_mode": {
    "name": "ipython",
    "version": 3
   },
   "file_extension": ".py",
   "mimetype": "text/x-python",
   "name": "python",
   "nbconvert_exporter": "python",
   "pygments_lexer": "ipython3",
   "version": "3.7.3"
  }
 },
 "nbformat": 4,
 "nbformat_minor": 4
}
